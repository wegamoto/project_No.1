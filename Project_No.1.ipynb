{
 "cells": [
  {
   "cell_type": "code",
   "execution_count": 89,
   "id": "5a1ce24d-b00f-494a-8995-fe0e04e42768",
   "metadata": {},
   "outputs": [],
   "source": [
    "# Imports:\n",
    "import pandas as pd\n",
    "import numpy as np\n",
    "import matplotlib.pyplot as plt\n",
    "import seaborn as sns"
   ]
  },
  {
   "cell_type": "code",
   "execution_count": 90,
   "id": "5bcef00a-62c5-4ff7-b074-526d192e32b1",
   "metadata": {},
   "outputs": [],
   "source": [
    "def find_duplicate_columns(df):\n",
    "    duplicates = []\n",
    "    for i in range(df.shape[1]):\n",
    "        col1 = df.iloc[:, i]\n",
    "        for j in range(i + 1, df.shape[1]):\n",
    "            col2 = df.iloc[:, j]\n",
    "            if col1.equals(col2):\n",
    "                duplicates.append((df.columns[i], df.columns[j]))\n",
    "    return duplicates"
   ]
  },
  {
   "cell_type": "code",
   "execution_count": 91,
   "id": "60c5f5a8-a246-4a9c-8b42-f32545350b03",
   "metadata": {},
   "outputs": [],
   "source": [
    "# Dictionary mapping full state names to their abbreviations\n",
    "state_abbreviations = {\n",
    "    'Alabama': 'AL',\n",
    "    'Alaska': 'AK',\n",
    "    'Arizona': 'AZ',\n",
    "    'Arkansas': 'AR',\n",
    "    'California': 'CA',\n",
    "    'Colorado': 'CO',\n",
    "    'Connecticut': 'CT',\n",
    "    'Delaware': 'DE',\n",
    "    'District of Columbia': 'D.C.',\n",
    "    'Florida': 'FL',\n",
    "    'Georgia': 'GA',\n",
    "    'Hawaii': 'HI',\n",
    "    'Idaho': 'ID',\n",
    "    'Illinois': 'IL',\n",
    "    'Indiana': 'IN',\n",
    "    'Iowa': 'IA',\n",
    "    'Kansas': 'KS',\n",
    "    'Kentucky': 'KY',\n",
    "    'Louisiana': 'LA',\n",
    "    'Maine': 'ME',\n",
    "    'Maryland': 'MD',\n",
    "    'Massachusetts': 'MA',\n",
    "    'Michigan': 'MI',\n",
    "    'Minnesota': 'MN',\n",
    "    'Mississippi': 'MS',\n",
    "    'Missouri': 'MO',\n",
    "    'Montana': 'MT',\n",
    "    'Nebraska': 'NE',\n",
    "    'Nevada': 'NV',\n",
    "    'New Hampshire': 'NH',\n",
    "    'New Jersey': 'NJ',\n",
    "    'New Mexico': 'NM',\n",
    "    'New York': 'NY',\n",
    "    'North Carolina': 'NC',\n",
    "    'North Dakota': 'ND',\n",
    "    'Ohio': 'OH',\n",
    "    'Oklahoma': 'OK',\n",
    "    'Oregon': 'OR',\n",
    "    'Pennsylvania': 'PA',\n",
    "    'Rhode Island': 'RI',\n",
    "    'South Carolina': 'SC',\n",
    "    'South Dakota': 'SD',\n",
    "    'Tennessee': 'TN',\n",
    "    'Texas': 'TX',\n",
    "    'Utah': 'UT',\n",
    "    'Vermont': 'VT',\n",
    "    'Virginia': 'VA',\n",
    "    'Washington': 'WA',\n",
    "    'West Virginia': 'WV',\n",
    "    'Wisconsin': 'WI',\n",
    "    'Wyoming': 'WY',\n",
    "    'National': 'NA'\n",
    "}\n",
    "\n",
    "def get_state_abbreviation(state_name):\n",
    "    return state_abbreviations.get(state_name, \"Invalid state name\")  #\"Invalid state name is DC, Washington, D.C. (District of Columbia) - DC\""
   ]
  },
  {
   "cell_type": "code",
   "execution_count": 92,
   "id": "6e35761f-bf10-4999-9376-aa19b1a5f65e",
   "metadata": {},
   "outputs": [],
   "source": [
    "# Display the data: print the first 5 rows of each dataframe to your Jupyter notebook.\n",
    "act_2017_common = pd.read_csv('data/act_2017.csv')\n",
    "act_2018_df = pd.read_csv('data/act_2018.csv')\n",
    "act_2019_df = pd.read_csv('data/act_2019.csv')\n",
    "act_2024_common = pd.read_csv('data/average-act-score-by-state-2024.csv')"
   ]
  },
  {
   "cell_type": "code",
   "execution_count": 93,
   "id": "3283ee45-c0fc-4bea-af60-abd23f662975",
   "metadata": {},
   "outputs": [
    {
     "data": {
      "text/html": [
       "<div>\n",
       "<style scoped>\n",
       "    .dataframe tbody tr th:only-of-type {\n",
       "        vertical-align: middle;\n",
       "    }\n",
       "\n",
       "    .dataframe tbody tr th {\n",
       "        vertical-align: top;\n",
       "    }\n",
       "\n",
       "    .dataframe thead th {\n",
       "        text-align: right;\n",
       "    }\n",
       "</style>\n",
       "<table border=\"1\" class=\"dataframe\">\n",
       "  <thead>\n",
       "    <tr style=\"text-align: right;\">\n",
       "      <th></th>\n",
       "      <th>State</th>\n",
       "      <th>Participation</th>\n",
       "      <th>English</th>\n",
       "      <th>Math</th>\n",
       "      <th>Reading</th>\n",
       "      <th>Science</th>\n",
       "      <th>Composite</th>\n",
       "    </tr>\n",
       "  </thead>\n",
       "  <tbody>\n",
       "    <tr>\n",
       "      <th>0</th>\n",
       "      <td>National</td>\n",
       "      <td>60%</td>\n",
       "      <td>20.3</td>\n",
       "      <td>20.7</td>\n",
       "      <td>21.4</td>\n",
       "      <td>21.0</td>\n",
       "      <td>21.0</td>\n",
       "    </tr>\n",
       "    <tr>\n",
       "      <th>1</th>\n",
       "      <td>Alabama</td>\n",
       "      <td>100%</td>\n",
       "      <td>18.9</td>\n",
       "      <td>18.4</td>\n",
       "      <td>19.7</td>\n",
       "      <td>19.4</td>\n",
       "      <td>19.2</td>\n",
       "    </tr>\n",
       "    <tr>\n",
       "      <th>2</th>\n",
       "      <td>Alaska</td>\n",
       "      <td>65%</td>\n",
       "      <td>18.7</td>\n",
       "      <td>19.8</td>\n",
       "      <td>20.4</td>\n",
       "      <td>19.9</td>\n",
       "      <td>19.8</td>\n",
       "    </tr>\n",
       "    <tr>\n",
       "      <th>3</th>\n",
       "      <td>Arizona</td>\n",
       "      <td>62%</td>\n",
       "      <td>18.6</td>\n",
       "      <td>19.8</td>\n",
       "      <td>20.1</td>\n",
       "      <td>19.8</td>\n",
       "      <td>19.7</td>\n",
       "    </tr>\n",
       "    <tr>\n",
       "      <th>4</th>\n",
       "      <td>Arkansas</td>\n",
       "      <td>100%</td>\n",
       "      <td>18.9</td>\n",
       "      <td>19.0</td>\n",
       "      <td>19.7</td>\n",
       "      <td>19.5</td>\n",
       "      <td>19.4</td>\n",
       "    </tr>\n",
       "  </tbody>\n",
       "</table>\n",
       "</div>"
      ],
      "text/plain": [
       "      State Participation  English  Math  Reading  Science Composite\n",
       "0  National           60%     20.3  20.7     21.4     21.0      21.0\n",
       "1   Alabama          100%     18.9  18.4     19.7     19.4      19.2\n",
       "2    Alaska           65%     18.7  19.8     20.4     19.9      19.8\n",
       "3   Arizona           62%     18.6  19.8     20.1     19.8      19.7\n",
       "4  Arkansas          100%     18.9  19.0     19.7     19.5      19.4"
      ]
     },
     "execution_count": 93,
     "metadata": {},
     "output_type": "execute_result"
    }
   ],
   "source": [
    "act_2017_common.head()"
   ]
  },
  {
   "cell_type": "code",
   "execution_count": 94,
   "id": "89776b47-c57e-48e8-967c-150866aa587b",
   "metadata": {},
   "outputs": [
    {
     "name": "stdout",
     "output_type": "stream",
     "text": [
      "<class 'pandas.core.frame.DataFrame'>\n",
      "RangeIndex: 52 entries, 0 to 51\n",
      "Data columns (total 7 columns):\n",
      " #   Column         Non-Null Count  Dtype  \n",
      "---  ------         --------------  -----  \n",
      " 0   State          52 non-null     object \n",
      " 1   Participation  52 non-null     object \n",
      " 2   English        52 non-null     float64\n",
      " 3   Math           52 non-null     float64\n",
      " 4   Reading        52 non-null     float64\n",
      " 5   Science        52 non-null     float64\n",
      " 6   Composite      52 non-null     object \n",
      "dtypes: float64(4), object(3)\n",
      "memory usage: 3.0+ KB\n"
     ]
    }
   ],
   "source": [
    "act_2017_common.info()"
   ]
  },
  {
   "cell_type": "code",
   "execution_count": 95,
   "id": "31ee2988-b917-41bd-a1dc-dded1529ea8a",
   "metadata": {},
   "outputs": [
    {
     "data": {
      "text/html": [
       "<div>\n",
       "<style scoped>\n",
       "    .dataframe tbody tr th:only-of-type {\n",
       "        vertical-align: middle;\n",
       "    }\n",
       "\n",
       "    .dataframe tbody tr th {\n",
       "        vertical-align: top;\n",
       "    }\n",
       "\n",
       "    .dataframe thead th {\n",
       "        text-align: right;\n",
       "    }\n",
       "</style>\n",
       "<table border=\"1\" class=\"dataframe\">\n",
       "  <thead>\n",
       "    <tr style=\"text-align: right;\">\n",
       "      <th></th>\n",
       "      <th>English</th>\n",
       "      <th>Math</th>\n",
       "      <th>Reading</th>\n",
       "      <th>Science</th>\n",
       "    </tr>\n",
       "  </thead>\n",
       "  <tbody>\n",
       "    <tr>\n",
       "      <th>count</th>\n",
       "      <td>52.000000</td>\n",
       "      <td>52.000000</td>\n",
       "      <td>52.000000</td>\n",
       "      <td>52.000000</td>\n",
       "    </tr>\n",
       "    <tr>\n",
       "      <th>mean</th>\n",
       "      <td>20.919231</td>\n",
       "      <td>21.173077</td>\n",
       "      <td>22.001923</td>\n",
       "      <td>21.040385</td>\n",
       "    </tr>\n",
       "    <tr>\n",
       "      <th>std</th>\n",
       "      <td>2.332132</td>\n",
       "      <td>1.963602</td>\n",
       "      <td>2.048672</td>\n",
       "      <td>3.151113</td>\n",
       "    </tr>\n",
       "    <tr>\n",
       "      <th>min</th>\n",
       "      <td>16.300000</td>\n",
       "      <td>18.000000</td>\n",
       "      <td>18.100000</td>\n",
       "      <td>2.300000</td>\n",
       "    </tr>\n",
       "    <tr>\n",
       "      <th>25%</th>\n",
       "      <td>19.000000</td>\n",
       "      <td>19.400000</td>\n",
       "      <td>20.475000</td>\n",
       "      <td>19.900000</td>\n",
       "    </tr>\n",
       "    <tr>\n",
       "      <th>50%</th>\n",
       "      <td>20.550000</td>\n",
       "      <td>20.900000</td>\n",
       "      <td>21.700000</td>\n",
       "      <td>21.150000</td>\n",
       "    </tr>\n",
       "    <tr>\n",
       "      <th>75%</th>\n",
       "      <td>23.300000</td>\n",
       "      <td>23.100000</td>\n",
       "      <td>24.125000</td>\n",
       "      <td>22.525000</td>\n",
       "    </tr>\n",
       "    <tr>\n",
       "      <th>max</th>\n",
       "      <td>25.500000</td>\n",
       "      <td>25.300000</td>\n",
       "      <td>26.000000</td>\n",
       "      <td>24.900000</td>\n",
       "    </tr>\n",
       "  </tbody>\n",
       "</table>\n",
       "</div>"
      ],
      "text/plain": [
       "         English       Math    Reading    Science\n",
       "count  52.000000  52.000000  52.000000  52.000000\n",
       "mean   20.919231  21.173077  22.001923  21.040385\n",
       "std     2.332132   1.963602   2.048672   3.151113\n",
       "min    16.300000  18.000000  18.100000   2.300000\n",
       "25%    19.000000  19.400000  20.475000  19.900000\n",
       "50%    20.550000  20.900000  21.700000  21.150000\n",
       "75%    23.300000  23.100000  24.125000  22.525000\n",
       "max    25.500000  25.300000  26.000000  24.900000"
      ]
     },
     "execution_count": 95,
     "metadata": {},
     "output_type": "execute_result"
    }
   ],
   "source": [
    "act_2017_common.describe()"
   ]
  },
  {
   "cell_type": "code",
   "execution_count": 96,
   "id": "31d7528e-184b-43c0-8df4-cf7ababf4470",
   "metadata": {},
   "outputs": [
    {
     "data": {
      "text/plain": [
       "State            0\n",
       "Participation    0\n",
       "English          0\n",
       "Math             0\n",
       "Reading          0\n",
       "Science          0\n",
       "Composite        0\n",
       "dtype: int64"
      ]
     },
     "execution_count": 96,
     "metadata": {},
     "output_type": "execute_result"
    }
   ],
   "source": [
    "act_2017_common.isnull().sum()"
   ]
  },
  {
   "cell_type": "code",
   "execution_count": 97,
   "id": "fe2c542a-e828-4e83-a668-db1deef115b1",
   "metadata": {},
   "outputs": [
    {
     "data": {
      "text/plain": [
       "Index(['State', 'Participation', 'English', 'Math', 'Reading', 'Science',\n",
       "       'Composite'],\n",
       "      dtype='object')"
      ]
     },
     "execution_count": 97,
     "metadata": {},
     "output_type": "execute_result"
    }
   ],
   "source": [
    "act_2017_common.columns"
   ]
  },
  {
   "cell_type": "code",
   "execution_count": 98,
   "id": "573fcef5-a2ad-4082-9184-9efd71808f72",
   "metadata": {},
   "outputs": [
    {
     "data": {
      "text/plain": [
       "pandas.core.frame.DataFrame"
      ]
     },
     "execution_count": 98,
     "metadata": {},
     "output_type": "execute_result"
    }
   ],
   "source": [
    "type(act_2017_common)"
   ]
  },
  {
   "cell_type": "code",
   "execution_count": 99,
   "id": "a47b6afd-1bf2-478a-b27c-e2243a4a001e",
   "metadata": {},
   "outputs": [],
   "source": [
    "act_2017_common.rename(columns={\"State\": \"state\", \"Participation\": \"participation\",\"English\": \"english\",\"Math\": \"math\",\"Reading\": \"reading\",\"Science\": \"science\",\"Composite\": \"composite\"}, inplace=True)"
   ]
  },
  {
   "cell_type": "code",
   "execution_count": 100,
   "id": "f9a674b9-c7be-4b35-a6eb-e8be17ee98b0",
   "metadata": {},
   "outputs": [],
   "source": [
    "act_2017_common['year'] = 2017"
   ]
  },
  {
   "cell_type": "code",
   "execution_count": 101,
   "id": "7a1f14dd-664b-4612-8a26-2c8653f26ca3",
   "metadata": {},
   "outputs": [],
   "source": [
    "act_2017_common['state_abbr'] = act_2017_common['state'].apply(get_state_abbreviation)"
   ]
  },
  {
   "cell_type": "code",
   "execution_count": 102,
   "id": "c88dd188-f59d-4c97-beaa-a48f64de66d6",
   "metadata": {},
   "outputs": [
    {
     "name": "stdout",
     "output_type": "stream",
     "text": [
      "<class 'pandas.core.frame.DataFrame'>\n",
      "RangeIndex: 52 entries, 0 to 51\n",
      "Data columns (total 9 columns):\n",
      " #   Column         Non-Null Count  Dtype  \n",
      "---  ------         --------------  -----  \n",
      " 0   state          52 non-null     object \n",
      " 1   participation  52 non-null     object \n",
      " 2   english        52 non-null     float64\n",
      " 3   math           52 non-null     float64\n",
      " 4   reading        52 non-null     float64\n",
      " 5   science        52 non-null     float64\n",
      " 6   composite      52 non-null     object \n",
      " 7   year           52 non-null     int64  \n",
      " 8   state_abbr     52 non-null     object \n",
      "dtypes: float64(4), int64(1), object(4)\n",
      "memory usage: 3.8+ KB\n"
     ]
    }
   ],
   "source": [
    "act_2017_common.info()"
   ]
  },
  {
   "cell_type": "code",
   "execution_count": 103,
   "id": "2953b465-0ede-47ed-a1d2-444e713ae829",
   "metadata": {},
   "outputs": [],
   "source": [
    "# replace value of column Composite '20.2x' ==> 20.2 \n",
    "\n",
    "act_2017_common.replace({'20.2x': 20.2}, inplace=True)"
   ]
  },
  {
   "cell_type": "code",
   "execution_count": 104,
   "id": "aa0737a7-df1c-44f4-8cf4-36c6ef2ebf9b",
   "metadata": {},
   "outputs": [
    {
     "data": {
      "text/plain": [
       "(52, 9)"
      ]
     },
     "execution_count": 104,
     "metadata": {},
     "output_type": "execute_result"
    }
   ],
   "source": [
    "act_2017_common.shape"
   ]
  },
  {
   "cell_type": "code",
   "execution_count": 105,
   "id": "cacd3e53-29e8-4ac9-85b4-d334f74a841c",
   "metadata": {},
   "outputs": [],
   "source": [
    "act_2017_common['participation'] = act_2017_common['participation'].str.rstrip('%').astype(int)\n",
    "# act_2017_df['Participation'] = act_2017_df['Participation'] / 100  #Option for a decimal percent"
   ]
  },
  {
   "cell_type": "code",
   "execution_count": 106,
   "id": "8c902a58-ff02-4a30-81aa-cfefbe4cb481",
   "metadata": {},
   "outputs": [
    {
     "data": {
      "text/html": [
       "<div>\n",
       "<style scoped>\n",
       "    .dataframe tbody tr th:only-of-type {\n",
       "        vertical-align: middle;\n",
       "    }\n",
       "\n",
       "    .dataframe tbody tr th {\n",
       "        vertical-align: top;\n",
       "    }\n",
       "\n",
       "    .dataframe thead th {\n",
       "        text-align: right;\n",
       "    }\n",
       "</style>\n",
       "<table border=\"1\" class=\"dataframe\">\n",
       "  <thead>\n",
       "    <tr style=\"text-align: right;\">\n",
       "      <th></th>\n",
       "      <th>state</th>\n",
       "      <th>participation</th>\n",
       "      <th>english</th>\n",
       "      <th>math</th>\n",
       "      <th>reading</th>\n",
       "      <th>science</th>\n",
       "      <th>composite</th>\n",
       "      <th>year</th>\n",
       "      <th>state_abbr</th>\n",
       "    </tr>\n",
       "  </thead>\n",
       "  <tbody>\n",
       "    <tr>\n",
       "      <th>0</th>\n",
       "      <td>National</td>\n",
       "      <td>60</td>\n",
       "      <td>20.3</td>\n",
       "      <td>20.7</td>\n",
       "      <td>21.4</td>\n",
       "      <td>21.0</td>\n",
       "      <td>21.0</td>\n",
       "      <td>2017</td>\n",
       "      <td>NA</td>\n",
       "    </tr>\n",
       "    <tr>\n",
       "      <th>1</th>\n",
       "      <td>Alabama</td>\n",
       "      <td>100</td>\n",
       "      <td>18.9</td>\n",
       "      <td>18.4</td>\n",
       "      <td>19.7</td>\n",
       "      <td>19.4</td>\n",
       "      <td>19.2</td>\n",
       "      <td>2017</td>\n",
       "      <td>AL</td>\n",
       "    </tr>\n",
       "    <tr>\n",
       "      <th>2</th>\n",
       "      <td>Alaska</td>\n",
       "      <td>65</td>\n",
       "      <td>18.7</td>\n",
       "      <td>19.8</td>\n",
       "      <td>20.4</td>\n",
       "      <td>19.9</td>\n",
       "      <td>19.8</td>\n",
       "      <td>2017</td>\n",
       "      <td>AK</td>\n",
       "    </tr>\n",
       "    <tr>\n",
       "      <th>3</th>\n",
       "      <td>Arizona</td>\n",
       "      <td>62</td>\n",
       "      <td>18.6</td>\n",
       "      <td>19.8</td>\n",
       "      <td>20.1</td>\n",
       "      <td>19.8</td>\n",
       "      <td>19.7</td>\n",
       "      <td>2017</td>\n",
       "      <td>AZ</td>\n",
       "    </tr>\n",
       "    <tr>\n",
       "      <th>4</th>\n",
       "      <td>Arkansas</td>\n",
       "      <td>100</td>\n",
       "      <td>18.9</td>\n",
       "      <td>19.0</td>\n",
       "      <td>19.7</td>\n",
       "      <td>19.5</td>\n",
       "      <td>19.4</td>\n",
       "      <td>2017</td>\n",
       "      <td>AR</td>\n",
       "    </tr>\n",
       "  </tbody>\n",
       "</table>\n",
       "</div>"
      ],
      "text/plain": [
       "      state  participation  english  math  reading  science composite  year  \\\n",
       "0  National             60     20.3  20.7     21.4     21.0      21.0  2017   \n",
       "1   Alabama            100     18.9  18.4     19.7     19.4      19.2  2017   \n",
       "2    Alaska             65     18.7  19.8     20.4     19.9      19.8  2017   \n",
       "3   Arizona             62     18.6  19.8     20.1     19.8      19.7  2017   \n",
       "4  Arkansas            100     18.9  19.0     19.7     19.5      19.4  2017   \n",
       "\n",
       "  state_abbr  \n",
       "0         NA  \n",
       "1         AL  \n",
       "2         AK  \n",
       "3         AZ  \n",
       "4         AR  "
      ]
     },
     "execution_count": 106,
     "metadata": {},
     "output_type": "execute_result"
    }
   ],
   "source": [
    "act_2017_common.head()"
   ]
  },
  {
   "cell_type": "code",
   "execution_count": 107,
   "id": "87608995-50c2-4a3b-b76b-5089a2cd0d9a",
   "metadata": {},
   "outputs": [],
   "source": [
    "# We can write all this work back to a csv file if we wish to.\n",
    "# Write the cleaned up Pandas DataFrame to a comma-separated values (csv) file.\n",
    "act_2017_common.to_csv(\"data/act_2017_cleaned.csv\", index=False)"
   ]
  },
  {
   "cell_type": "markdown",
   "id": "9c64fe18-87b4-476c-ba1f-312614543c04",
   "metadata": {},
   "source": [
    "### Data act_2018"
   ]
  },
  {
   "cell_type": "code",
   "execution_count": 108,
   "id": "51faafcc-f6cf-42ef-9842-8163cd14a75d",
   "metadata": {},
   "outputs": [
    {
     "data": {
      "text/html": [
       "<div>\n",
       "<style scoped>\n",
       "    .dataframe tbody tr th:only-of-type {\n",
       "        vertical-align: middle;\n",
       "    }\n",
       "\n",
       "    .dataframe tbody tr th {\n",
       "        vertical-align: top;\n",
       "    }\n",
       "\n",
       "    .dataframe thead th {\n",
       "        text-align: right;\n",
       "    }\n",
       "</style>\n",
       "<table border=\"1\" class=\"dataframe\">\n",
       "  <thead>\n",
       "    <tr style=\"text-align: right;\">\n",
       "      <th></th>\n",
       "      <th>State</th>\n",
       "      <th>Participation</th>\n",
       "      <th>Composite</th>\n",
       "    </tr>\n",
       "  </thead>\n",
       "  <tbody>\n",
       "    <tr>\n",
       "      <th>0</th>\n",
       "      <td>Alabama</td>\n",
       "      <td>100%</td>\n",
       "      <td>19.1</td>\n",
       "    </tr>\n",
       "    <tr>\n",
       "      <th>1</th>\n",
       "      <td>Alaska</td>\n",
       "      <td>33%</td>\n",
       "      <td>20.8</td>\n",
       "    </tr>\n",
       "    <tr>\n",
       "      <th>2</th>\n",
       "      <td>Arizona</td>\n",
       "      <td>66%</td>\n",
       "      <td>19.2</td>\n",
       "    </tr>\n",
       "    <tr>\n",
       "      <th>3</th>\n",
       "      <td>Arkansas</td>\n",
       "      <td>100%</td>\n",
       "      <td>19.4</td>\n",
       "    </tr>\n",
       "    <tr>\n",
       "      <th>4</th>\n",
       "      <td>California</td>\n",
       "      <td>27%</td>\n",
       "      <td>22.7</td>\n",
       "    </tr>\n",
       "  </tbody>\n",
       "</table>\n",
       "</div>"
      ],
      "text/plain": [
       "        State Participation  Composite\n",
       "0     Alabama          100%       19.1\n",
       "1      Alaska           33%       20.8\n",
       "2     Arizona           66%       19.2\n",
       "3    Arkansas          100%       19.4\n",
       "4  California           27%       22.7"
      ]
     },
     "execution_count": 108,
     "metadata": {},
     "output_type": "execute_result"
    }
   ],
   "source": [
    "act_2018_df.head()"
   ]
  },
  {
   "cell_type": "code",
   "execution_count": 109,
   "id": "5d49af85-87c6-4250-9203-c5215d159c28",
   "metadata": {},
   "outputs": [],
   "source": [
    "act_2018_df['Year'] = 2018"
   ]
  },
  {
   "cell_type": "code",
   "execution_count": 110,
   "id": "4b6c89f3-620b-4137-b860-2d0799339027",
   "metadata": {},
   "outputs": [
    {
     "name": "stdout",
     "output_type": "stream",
     "text": [
      "<class 'pandas.core.frame.DataFrame'>\n",
      "RangeIndex: 52 entries, 0 to 51\n",
      "Data columns (total 4 columns):\n",
      " #   Column         Non-Null Count  Dtype  \n",
      "---  ------         --------------  -----  \n",
      " 0   State          52 non-null     object \n",
      " 1   Participation  52 non-null     object \n",
      " 2   Composite      52 non-null     float64\n",
      " 3   Year           52 non-null     int64  \n",
      "dtypes: float64(1), int64(1), object(2)\n",
      "memory usage: 1.8+ KB\n"
     ]
    }
   ],
   "source": [
    "act_2018_df.info()"
   ]
  },
  {
   "cell_type": "code",
   "execution_count": 111,
   "id": "176cfe0e-963a-483c-93dc-52dd543ec5eb",
   "metadata": {},
   "outputs": [],
   "source": [
    "act_2018_df.rename(columns={\"State\": \"state\", \"Participation\": \"participation\",\"Composite\": \"composite\",\"Year\": \"year\"}, inplace=True)"
   ]
  },
  {
   "cell_type": "code",
   "execution_count": 112,
   "id": "01c57c68-ff48-462d-a14a-55e7b0b0de93",
   "metadata": {},
   "outputs": [],
   "source": [
    "act_2018_df['state_abbr'] = act_2018_df['state'].apply(get_state_abbreviation)"
   ]
  },
  {
   "cell_type": "code",
   "execution_count": 113,
   "id": "817799ef-ed85-462d-878c-ded710fc36c8",
   "metadata": {},
   "outputs": [],
   "source": [
    "act_2018_df['participation'] = act_2018_df['participation'].str.rstrip('%').astype(int)"
   ]
  },
  {
   "cell_type": "code",
   "execution_count": 114,
   "id": "bdd04af7-9aba-4a55-863a-60bbcf079419",
   "metadata": {},
   "outputs": [],
   "source": [
    "act_2018_df.drop_duplicates(inplace=True)"
   ]
  },
  {
   "cell_type": "code",
   "execution_count": 115,
   "id": "580d9fb4-1f56-48ec-b4bf-15dd267d1cb3",
   "metadata": {},
   "outputs": [
    {
     "data": {
      "text/plain": [
       "(51, 5)"
      ]
     },
     "execution_count": 115,
     "metadata": {},
     "output_type": "execute_result"
    }
   ],
   "source": [
    "act_2018_df.shape"
   ]
  },
  {
   "cell_type": "code",
   "execution_count": 116,
   "id": "ae347776-8598-4194-a156-0b35eeed6cf2",
   "metadata": {},
   "outputs": [
    {
     "name": "stdout",
     "output_type": "stream",
     "text": [
      "<class 'pandas.core.frame.DataFrame'>\n",
      "Index: 51 entries, 0 to 51\n",
      "Data columns (total 5 columns):\n",
      " #   Column         Non-Null Count  Dtype  \n",
      "---  ------         --------------  -----  \n",
      " 0   state          51 non-null     object \n",
      " 1   participation  51 non-null     int32  \n",
      " 2   composite      51 non-null     float64\n",
      " 3   year           51 non-null     int64  \n",
      " 4   state_abbr     51 non-null     object \n",
      "dtypes: float64(1), int32(1), int64(1), object(2)\n",
      "memory usage: 2.2+ KB\n"
     ]
    }
   ],
   "source": [
    "act_2018_df.info()"
   ]
  },
  {
   "cell_type": "code",
   "execution_count": 117,
   "id": "04db1dd3-7881-4db6-b17c-1c60ae0603e3",
   "metadata": {},
   "outputs": [],
   "source": [
    "# We can write all this work back to a csv file if we wish to.\n",
    "# Write the cleaned up Pandas DataFrame to a comma-separated values (csv) file.\n",
    "act_2018_df.to_csv(\"data/act_2018_cleaned.csv\", index=False)"
   ]
  },
  {
   "cell_type": "markdown",
   "id": "d87750de-62e5-4f15-a12c-abd7bf4c3a7c",
   "metadata": {},
   "source": [
    "### act_2019"
   ]
  },
  {
   "cell_type": "code",
   "execution_count": 118,
   "id": "4c1e2ec6-0a88-4662-880f-18029bc7723d",
   "metadata": {},
   "outputs": [
    {
     "data": {
      "text/html": [
       "<div>\n",
       "<style scoped>\n",
       "    .dataframe tbody tr th:only-of-type {\n",
       "        vertical-align: middle;\n",
       "    }\n",
       "\n",
       "    .dataframe tbody tr th {\n",
       "        vertical-align: top;\n",
       "    }\n",
       "\n",
       "    .dataframe thead th {\n",
       "        text-align: right;\n",
       "    }\n",
       "</style>\n",
       "<table border=\"1\" class=\"dataframe\">\n",
       "  <thead>\n",
       "    <tr style=\"text-align: right;\">\n",
       "      <th></th>\n",
       "      <th>State</th>\n",
       "      <th>Participation</th>\n",
       "      <th>Composite</th>\n",
       "    </tr>\n",
       "  </thead>\n",
       "  <tbody>\n",
       "    <tr>\n",
       "      <th>0</th>\n",
       "      <td>Alabama</td>\n",
       "      <td>100%</td>\n",
       "      <td>18.9</td>\n",
       "    </tr>\n",
       "    <tr>\n",
       "      <th>1</th>\n",
       "      <td>Alaska</td>\n",
       "      <td>38%</td>\n",
       "      <td>20.1</td>\n",
       "    </tr>\n",
       "    <tr>\n",
       "      <th>2</th>\n",
       "      <td>Arizona</td>\n",
       "      <td>73%</td>\n",
       "      <td>19.0</td>\n",
       "    </tr>\n",
       "    <tr>\n",
       "      <th>3</th>\n",
       "      <td>Arkansas</td>\n",
       "      <td>100%</td>\n",
       "      <td>19.3</td>\n",
       "    </tr>\n",
       "    <tr>\n",
       "      <th>4</th>\n",
       "      <td>California</td>\n",
       "      <td>23%</td>\n",
       "      <td>22.6</td>\n",
       "    </tr>\n",
       "  </tbody>\n",
       "</table>\n",
       "</div>"
      ],
      "text/plain": [
       "        State Participation  Composite\n",
       "0     Alabama          100%       18.9\n",
       "1      Alaska           38%       20.1\n",
       "2     Arizona           73%       19.0\n",
       "3    Arkansas          100%       19.3\n",
       "4  California           23%       22.6"
      ]
     },
     "execution_count": 118,
     "metadata": {},
     "output_type": "execute_result"
    }
   ],
   "source": [
    "act_2019_df.head()"
   ]
  },
  {
   "cell_type": "code",
   "execution_count": 119,
   "id": "f575498e-2a2b-4bb2-82c3-1cc7634c64c7",
   "metadata": {},
   "outputs": [],
   "source": [
    "act_2019_df['Year'] = 2019"
   ]
  },
  {
   "cell_type": "code",
   "execution_count": 120,
   "id": "4827db61-98e8-4ab1-a2a5-ef0a5da641f0",
   "metadata": {},
   "outputs": [
    {
     "name": "stdout",
     "output_type": "stream",
     "text": [
      "<class 'pandas.core.frame.DataFrame'>\n",
      "RangeIndex: 52 entries, 0 to 51\n",
      "Data columns (total 4 columns):\n",
      " #   Column         Non-Null Count  Dtype  \n",
      "---  ------         --------------  -----  \n",
      " 0   State          52 non-null     object \n",
      " 1   Participation  52 non-null     object \n",
      " 2   Composite      52 non-null     float64\n",
      " 3   Year           52 non-null     int64  \n",
      "dtypes: float64(1), int64(1), object(2)\n",
      "memory usage: 1.8+ KB\n"
     ]
    }
   ],
   "source": [
    "act_2019_df.info()"
   ]
  },
  {
   "cell_type": "code",
   "execution_count": 121,
   "id": "383f813f-93bd-4cee-95eb-f8e4e4e3a5dc",
   "metadata": {},
   "outputs": [
    {
     "data": {
      "text/plain": [
       "(52, 4)"
      ]
     },
     "execution_count": 121,
     "metadata": {},
     "output_type": "execute_result"
    }
   ],
   "source": [
    "act_2019_df.shape"
   ]
  },
  {
   "cell_type": "code",
   "execution_count": 122,
   "id": "5934f698-9aec-49fd-ad4c-cfd3f4d3529c",
   "metadata": {},
   "outputs": [
    {
     "data": {
      "text/plain": [
       "State            0\n",
       "Participation    0\n",
       "Composite        0\n",
       "Year             0\n",
       "dtype: int64"
      ]
     },
     "execution_count": 122,
     "metadata": {},
     "output_type": "execute_result"
    }
   ],
   "source": [
    "act_2019_df.isnull().sum()"
   ]
  },
  {
   "cell_type": "code",
   "execution_count": 123,
   "id": "6eaffe5f-4c6b-4f1e-9392-aec8b3bd730c",
   "metadata": {},
   "outputs": [],
   "source": [
    "act_2019_df.drop_duplicates(inplace=True)"
   ]
  },
  {
   "cell_type": "code",
   "execution_count": 124,
   "id": "c748355b-c0d8-4b34-8572-f3b00ea55c84",
   "metadata": {},
   "outputs": [],
   "source": [
    "act_2019_df.rename(columns={\"State\": \"state\", \"Participation\": \"participation\",\"Composite\": \"composite\",\"Year\": \"year\"}, inplace=True)"
   ]
  },
  {
   "cell_type": "code",
   "execution_count": 125,
   "id": "8826eb93-aa27-4a06-9e9e-8559d00944b1",
   "metadata": {},
   "outputs": [],
   "source": [
    "act_2019_df['state_abbr'] = act_2019_df['state'].apply(get_state_abbreviation)"
   ]
  },
  {
   "cell_type": "code",
   "execution_count": 126,
   "id": "9774ca95-1398-4f35-882f-9ac85b43de9a",
   "metadata": {},
   "outputs": [],
   "source": [
    "act_2019_df['participation'] = act_2019_df['participation'].str.rstrip('%').astype(int)"
   ]
  },
  {
   "cell_type": "code",
   "execution_count": 127,
   "id": "ca928492-5df0-40d6-bd88-1ab7ff5f0f1e",
   "metadata": {},
   "outputs": [
    {
     "name": "stdout",
     "output_type": "stream",
     "text": [
      "<class 'pandas.core.frame.DataFrame'>\n",
      "RangeIndex: 52 entries, 0 to 51\n",
      "Data columns (total 5 columns):\n",
      " #   Column         Non-Null Count  Dtype  \n",
      "---  ------         --------------  -----  \n",
      " 0   state          52 non-null     object \n",
      " 1   participation  52 non-null     int32  \n",
      " 2   composite      52 non-null     float64\n",
      " 3   year           52 non-null     int64  \n",
      " 4   state_abbr     52 non-null     object \n",
      "dtypes: float64(1), int32(1), int64(1), object(2)\n",
      "memory usage: 2.0+ KB\n"
     ]
    }
   ],
   "source": [
    "act_2019_df.info()"
   ]
  },
  {
   "cell_type": "code",
   "execution_count": 128,
   "id": "6578f0bb-7ef6-4f4c-86e8-c1268906b68d",
   "metadata": {},
   "outputs": [],
   "source": [
    "# We can write all this work back to a csv file if we wish to.\n",
    "# Write the cleaned up Pandas DataFrame to a comma-separated values (csv) file.\n",
    "act_2019_df.to_csv(\"data/act_2019_cleaned.csv\", index=False)"
   ]
  },
  {
   "cell_type": "markdown",
   "id": "b363f252-75c2-4f10-bcdc-6268b6d4bd7d",
   "metadata": {},
   "source": [
    "### act_2024"
   ]
  },
  {
   "cell_type": "code",
   "execution_count": 129,
   "id": "90554fb3-2024-40cd-b523-e4182e5eb17d",
   "metadata": {},
   "outputs": [
    {
     "data": {
      "text/html": [
       "<div>\n",
       "<style scoped>\n",
       "    .dataframe tbody tr th:only-of-type {\n",
       "        vertical-align: middle;\n",
       "    }\n",
       "\n",
       "    .dataframe tbody tr th {\n",
       "        vertical-align: top;\n",
       "    }\n",
       "\n",
       "    .dataframe thead th {\n",
       "        text-align: right;\n",
       "    }\n",
       "</style>\n",
       "<table border=\"1\" class=\"dataframe\">\n",
       "  <thead>\n",
       "    <tr style=\"text-align: right;\">\n",
       "      <th></th>\n",
       "      <th>state</th>\n",
       "      <th>AverageACTScorePercentOfGraduatesTested</th>\n",
       "      <th>AverageACTScoreComposite</th>\n",
       "      <th>AverageACTScoreEnglish</th>\n",
       "      <th>AverageACTScoreMath</th>\n",
       "      <th>AverageACTScoreReading</th>\n",
       "      <th>AverageACTScoreScience</th>\n",
       "    </tr>\n",
       "  </thead>\n",
       "  <tbody>\n",
       "    <tr>\n",
       "      <th>0</th>\n",
       "      <td>Alabama</td>\n",
       "      <td>100</td>\n",
       "      <td>18.0</td>\n",
       "      <td>17.3</td>\n",
       "      <td>17.4</td>\n",
       "      <td>18.5</td>\n",
       "      <td>18.2</td>\n",
       "    </tr>\n",
       "    <tr>\n",
       "      <th>1</th>\n",
       "      <td>Alaska</td>\n",
       "      <td>14</td>\n",
       "      <td>20.4</td>\n",
       "      <td>19.3</td>\n",
       "      <td>20.0</td>\n",
       "      <td>21.4</td>\n",
       "      <td>20.4</td>\n",
       "    </tr>\n",
       "    <tr>\n",
       "      <th>2</th>\n",
       "      <td>Arizona</td>\n",
       "      <td>64</td>\n",
       "      <td>18.4</td>\n",
       "      <td>17.3</td>\n",
       "      <td>18.5</td>\n",
       "      <td>18.8</td>\n",
       "      <td>18.5</td>\n",
       "    </tr>\n",
       "    <tr>\n",
       "      <th>3</th>\n",
       "      <td>Arkansas</td>\n",
       "      <td>93</td>\n",
       "      <td>18.8</td>\n",
       "      <td>18.3</td>\n",
       "      <td>18.1</td>\n",
       "      <td>19.2</td>\n",
       "      <td>19.1</td>\n",
       "    </tr>\n",
       "    <tr>\n",
       "      <th>4</th>\n",
       "      <td>California</td>\n",
       "      <td>4</td>\n",
       "      <td>26.5</td>\n",
       "      <td>26.9</td>\n",
       "      <td>25.6</td>\n",
       "      <td>27.3</td>\n",
       "      <td>25.8</td>\n",
       "    </tr>\n",
       "  </tbody>\n",
       "</table>\n",
       "</div>"
      ],
      "text/plain": [
       "        state  AverageACTScorePercentOfGraduatesTested  \\\n",
       "0     Alabama                                      100   \n",
       "1      Alaska                                       14   \n",
       "2     Arizona                                       64   \n",
       "3    Arkansas                                       93   \n",
       "4  California                                        4   \n",
       "\n",
       "   AverageACTScoreComposite  AverageACTScoreEnglish  AverageACTScoreMath  \\\n",
       "0                      18.0                    17.3                 17.4   \n",
       "1                      20.4                    19.3                 20.0   \n",
       "2                      18.4                    17.3                 18.5   \n",
       "3                      18.8                    18.3                 18.1   \n",
       "4                      26.5                    26.9                 25.6   \n",
       "\n",
       "   AverageACTScoreReading  AverageACTScoreScience  \n",
       "0                    18.5                    18.2  \n",
       "1                    21.4                    20.4  \n",
       "2                    18.8                    18.5  \n",
       "3                    19.2                    19.1  \n",
       "4                    27.3                    25.8  "
      ]
     },
     "execution_count": 129,
     "metadata": {},
     "output_type": "execute_result"
    }
   ],
   "source": [
    "act_2024_common.head()"
   ]
  },
  {
   "cell_type": "code",
   "execution_count": 130,
   "id": "fc32eb1b-90f6-4708-88ef-7f207960346e",
   "metadata": {},
   "outputs": [],
   "source": [
    "act_2024_common['Year'] = 2024"
   ]
  },
  {
   "cell_type": "code",
   "execution_count": 131,
   "id": "7f9f972d-525e-49c4-aa1c-c09415a0007a",
   "metadata": {},
   "outputs": [
    {
     "name": "stdout",
     "output_type": "stream",
     "text": [
      "<class 'pandas.core.frame.DataFrame'>\n",
      "RangeIndex: 51 entries, 0 to 50\n",
      "Data columns (total 8 columns):\n",
      " #   Column                                   Non-Null Count  Dtype  \n",
      "---  ------                                   --------------  -----  \n",
      " 0   state                                    51 non-null     object \n",
      " 1   AverageACTScorePercentOfGraduatesTested  51 non-null     int64  \n",
      " 2   AverageACTScoreComposite                 51 non-null     float64\n",
      " 3   AverageACTScoreEnglish                   51 non-null     float64\n",
      " 4   AverageACTScoreMath                      51 non-null     float64\n",
      " 5   AverageACTScoreReading                   51 non-null     float64\n",
      " 6   AverageACTScoreScience                   51 non-null     float64\n",
      " 7   Year                                     51 non-null     int64  \n",
      "dtypes: float64(5), int64(2), object(1)\n",
      "memory usage: 3.3+ KB\n"
     ]
    }
   ],
   "source": [
    "act_2024_common.info()"
   ]
  },
  {
   "cell_type": "code",
   "execution_count": 132,
   "id": "5f3a5562-89cd-469e-9e33-c792795de835",
   "metadata": {},
   "outputs": [
    {
     "data": {
      "text/plain": [
       "state                                      0\n",
       "AverageACTScorePercentOfGraduatesTested    0\n",
       "AverageACTScoreComposite                   0\n",
       "AverageACTScoreEnglish                     0\n",
       "AverageACTScoreMath                        0\n",
       "AverageACTScoreReading                     0\n",
       "AverageACTScoreScience                     0\n",
       "Year                                       0\n",
       "dtype: int64"
      ]
     },
     "execution_count": 132,
     "metadata": {},
     "output_type": "execute_result"
    }
   ],
   "source": [
    "act_2024_common.isnull().sum()"
   ]
  },
  {
   "cell_type": "code",
   "execution_count": 133,
   "id": "da244879-a504-4a3a-a220-bed15458e8ec",
   "metadata": {},
   "outputs": [],
   "source": [
    "act_2024_common.rename(columns={\"State\": \"state\", \"AverageACTScorePercentOfGraduatesTested\": \"participation\",\"AverageACTScoreComposite\": \"composite\",\"AverageACTScoreEnglish\":\"english\",\"AverageACTScoreMath\": \"math\",\"AverageACTScoreReading\": \"reading\",\"AverageACTScoreScience\": \"science\" ,\"Year\": \"year\"}, inplace=True)"
   ]
  },
  {
   "cell_type": "code",
   "execution_count": 134,
   "id": "369915da-7f47-4c31-be49-76e1ae0a37b7",
   "metadata": {},
   "outputs": [],
   "source": [
    "act_2024_common['state_abbr'] = act_2024_common['state'].apply(get_state_abbreviation)"
   ]
  },
  {
   "cell_type": "code",
   "execution_count": 135,
   "id": "abfbb96f-54d2-4035-8eb1-65f99b617fc7",
   "metadata": {},
   "outputs": [
    {
     "name": "stdout",
     "output_type": "stream",
     "text": [
      "<class 'pandas.core.frame.DataFrame'>\n",
      "RangeIndex: 51 entries, 0 to 50\n",
      "Data columns (total 9 columns):\n",
      " #   Column         Non-Null Count  Dtype  \n",
      "---  ------         --------------  -----  \n",
      " 0   state          51 non-null     object \n",
      " 1   participation  51 non-null     int64  \n",
      " 2   composite      51 non-null     float64\n",
      " 3   english        51 non-null     float64\n",
      " 4   math           51 non-null     float64\n",
      " 5   reading        51 non-null     float64\n",
      " 6   science        51 non-null     float64\n",
      " 7   year           51 non-null     int64  \n",
      " 8   state_abbr     51 non-null     object \n",
      "dtypes: float64(5), int64(2), object(2)\n",
      "memory usage: 3.7+ KB\n"
     ]
    }
   ],
   "source": [
    "act_2024_common.info()"
   ]
  },
  {
   "cell_type": "code",
   "execution_count": 136,
   "id": "3384bf7b-c322-4142-afd4-3b47593fa9fc",
   "metadata": {},
   "outputs": [],
   "source": [
    "# We can write all this work back to a csv file if we wish to.\n",
    "# Write the cleaned up Pandas DataFrame to a comma-separated values (csv) file.\n",
    "act_2024_common.to_csv(\"data/act_2024_cleaned.csv\", index=False)"
   ]
  },
  {
   "cell_type": "markdown",
   "id": "1e78519a-8aad-4702-9bdf-9b4734bc9ea5",
   "metadata": {},
   "source": [
    "### Concaternate act_2017 act_2018 act_2019 and act_2024"
   ]
  },
  {
   "cell_type": "code",
   "execution_count": 137,
   "id": "541e3af2-c8f4-4f6a-942a-5dcf16efc188",
   "metadata": {},
   "outputs": [
    {
     "name": "stdout",
     "output_type": "stream",
     "text": [
      "<class 'pandas.core.frame.DataFrame'>\n",
      "RangeIndex: 51 entries, 0 to 50\n",
      "Data columns (total 9 columns):\n",
      " #   Column         Non-Null Count  Dtype  \n",
      "---  ------         --------------  -----  \n",
      " 0   state          51 non-null     object \n",
      " 1   participation  51 non-null     int64  \n",
      " 2   composite      51 non-null     float64\n",
      " 3   english        51 non-null     float64\n",
      " 4   math           51 non-null     float64\n",
      " 5   reading        51 non-null     float64\n",
      " 6   science        51 non-null     float64\n",
      " 7   year           51 non-null     int64  \n",
      " 8   state_abbr     51 non-null     object \n",
      "dtypes: float64(5), int64(2), object(2)\n",
      "memory usage: 3.7+ KB\n"
     ]
    }
   ],
   "source": [
    "act_2024_common.info()"
   ]
  },
  {
   "cell_type": "code",
   "execution_count": 138,
   "id": "966352a9-6557-4b80-80b5-ec3ba5464d8c",
   "metadata": {},
   "outputs": [
    {
     "name": "stdout",
     "output_type": "stream",
     "text": [
      "<class 'pandas.core.frame.DataFrame'>\n",
      "RangeIndex: 52 entries, 0 to 51\n",
      "Data columns (total 9 columns):\n",
      " #   Column         Non-Null Count  Dtype  \n",
      "---  ------         --------------  -----  \n",
      " 0   state          52 non-null     object \n",
      " 1   participation  52 non-null     int32  \n",
      " 2   english        52 non-null     float64\n",
      " 3   math           52 non-null     float64\n",
      " 4   reading        52 non-null     float64\n",
      " 5   science        52 non-null     float64\n",
      " 6   composite      52 non-null     object \n",
      " 7   year           52 non-null     int64  \n",
      " 8   state_abbr     52 non-null     object \n",
      "dtypes: float64(4), int32(1), int64(1), object(3)\n",
      "memory usage: 3.6+ KB\n"
     ]
    }
   ],
   "source": [
    "act_2017_common.info()"
   ]
  },
  {
   "cell_type": "code",
   "execution_count": 139,
   "id": "952f5bec-8447-475e-8f71-d7791533d348",
   "metadata": {},
   "outputs": [],
   "source": [
    "# act_2017_common  # Selecting specific columns to create a new DataFrame\n",
    "selected_columns = ['state', 'participation', 'composite', 'year', 'state_abbr']\n",
    "act_2017_df = act_2017_common[selected_columns]\n"
   ]
  },
  {
   "cell_type": "code",
   "execution_count": 140,
   "id": "91d17298-8807-4411-ba13-68a24d62d0b9",
   "metadata": {},
   "outputs": [],
   "source": [
    "# act_2024_common # Selecting specific columns to create a new DataFrame\n",
    "act_2024_df = act_2024_common[selected_columns]"
   ]
  },
  {
   "cell_type": "code",
   "execution_count": 163,
   "id": "42c166ea-2648-49fd-b04b-73d1ab76d3ce",
   "metadata": {},
   "outputs": [
    {
     "name": "stdout",
     "output_type": "stream",
     "text": [
      "             state  participation composite  year state_abbr\n",
      "0         National             60      21.0  2017         NA\n",
      "1          Alabama            100      19.2  2017         AL\n",
      "2           Alaska             65      19.8  2017         AK\n",
      "3          Arizona             62      19.7  2017         AZ\n",
      "4         Arkansas            100      19.4  2017         AR\n",
      "..             ...            ...       ...   ...        ...\n",
      "201       Virginia              9      24.6  2024         VA\n",
      "202     Washington              7      24.6  2024         WA\n",
      "203  West Virginia             28      20.5  2024         WV\n",
      "204      Wisconsin             93      19.4  2024         WI\n",
      "205        Wyoming            100      19.2  2024         WY\n",
      "\n",
      "[206 rows x 5 columns]\n"
     ]
    }
   ],
   "source": [
    "full_act = pd.concat([act_2017_df, act_2018_df, act_2019_df, act_2024_df], ignore_index=True)\n",
    "print(full_act)"
   ]
  },
  {
   "cell_type": "code",
   "execution_count": 157,
   "id": "853e41bd-740a-4780-ac18-af5f4ae240b5",
   "metadata": {},
   "outputs": [
    {
     "data": {
      "text/plain": [
       "array(['National', 'Alabama', 'Alaska', 'Arizona', 'Arkansas',\n",
       "       'California', 'Colorado', 'Connecticut', 'Delaware',\n",
       "       'District of Columbia', 'Florida', 'Georgia', 'Hawaii', 'Idaho',\n",
       "       'Illinois', 'Indiana', 'Iowa', 'Kansas', 'Kentucky', 'Louisiana',\n",
       "       'Maine', 'Maryland', 'Massachusetts', 'Michigan', 'Minnesota',\n",
       "       'Mississippi', 'Missouri', 'Montana', 'Nebraska', 'Nevada',\n",
       "       'New Hampshire', 'New Jersey', 'New Mexico', 'New York',\n",
       "       'North Carolina', 'North Dakota', 'Ohio', 'Oklahoma', 'Oregon',\n",
       "       'Pennsylvania', 'Rhode Island', 'South Carolina', 'South Dakota',\n",
       "       'Tennessee', 'Texas', 'Utah', 'Vermont', 'Virginia', 'Washington',\n",
       "       'West Virginia', 'Wisconsin', 'Wyoming', 'District of columbia'],\n",
       "      dtype=object)"
      ]
     },
     "execution_count": 157,
     "metadata": {},
     "output_type": "execute_result"
    }
   ],
   "source": [
    "full_act['state'].unique()"
   ]
  },
  {
   "cell_type": "code",
   "execution_count": 164,
   "id": "300981d4-741c-4523-8425-443244cdfb36",
   "metadata": {},
   "outputs": [
    {
     "data": {
      "text/plain": [
       "array([2017, 2018, 2019, 2024], dtype=int64)"
      ]
     },
     "execution_count": 164,
     "metadata": {},
     "output_type": "execute_result"
    }
   ],
   "source": [
    "full_act['year'].unique()"
   ]
  },
  {
   "cell_type": "code",
   "execution_count": 158,
   "id": "19a5b3ca-0423-459e-bf1a-dcb01b6208b2",
   "metadata": {},
   "outputs": [
    {
     "data": {
      "text/plain": [
       "<Figure size 1000x1000 with 0 Axes>"
      ]
     },
     "execution_count": 158,
     "metadata": {},
     "output_type": "execute_result"
    },
    {
     "data": {
      "text/plain": [
       "<Figure size 1000x1000 with 0 Axes>"
      ]
     },
     "metadata": {},
     "output_type": "display_data"
    }
   ],
   "source": [
    "plt.figure(figsize=(10, 10))  # Set the figure size (width, height)"
   ]
  },
  {
   "cell_type": "code",
   "execution_count": 159,
   "id": "26726776-a43b-400a-8357-a97437d16692",
   "metadata": {},
   "outputs": [
    {
     "data": {
      "text/plain": [
       "Text(0, 0.5, 'State')"
      ]
     },
     "execution_count": 159,
     "metadata": {},
     "output_type": "execute_result"
    },
    {
     "data": {
      "image/png": "[encoded data removed]",
      "text/plain": [
       "<Figure size 1000x1000 with 1 Axes>"
      ]
     },
     "metadata": {},
     "output_type": "display_data"
    }
   ],
   "source": [
    "sorted_data = sorted(zip(act_2017_df['participation'],act_2017_df['state_abbr']), reverse=True)\n",
    "sorted_values, sorted_categories = zip(*sorted_data)\n",
    "plt.style.use('ggplot')\n",
    "plt.figure(figsize=(10, 10))  # Set the figure size (width, height)\n",
    "plt.barh(sorted_categories, sorted_values, color='blue')\n",
    "# Add title and labels\n",
    "plt.title('ACT Bar Chart Year 2017')\n",
    "plt.xlabel('Participation')\n",
    "plt.ylabel('State')"
   ]
  },
  {
   "cell_type": "code",
   "execution_count": 160,
   "id": "1ddf9d1e-3637-4233-852f-c8e39215ed58",
   "metadata": {},
   "outputs": [
    {
     "data": {
      "text/plain": [
       "Text(0, 0.5, 'State')"
      ]
     },
     "execution_count": 160,
     "metadata": {},
     "output_type": "execute_result"
    },
    {
     "data": {
      "image/png": "[encoded data removed]",
      "text/plain": [
       "<Figure size 1000x1000 with 1 Axes>"
      ]
     },
     "metadata": {},
     "output_type": "display_data"
    }
   ],
   "source": [
    "sorted_data2018 = sorted(zip(act_2018_df['participation'],act_2018_df['state']), reverse=True)\n",
    "sorted_values2018, sorted_categories2018 = zip(*sorted_data)\n",
    "plt.style.use('ggplot')\n",
    "plt.figure(figsize=(10, 10))  # Set the figure size (width, height)\n",
    "plt.barh(sorted_categories2018, sorted_values2018, color='blue')\n",
    "# Add title and labels\n",
    "plt.title('ACT Bar Chart Year 2018')\n",
    "plt.xlabel('Participation')\n",
    "plt.ylabel('State')"
   ]
  },
  {
   "cell_type": "code",
   "execution_count": 161,
   "id": "8f3cc842-e39d-4953-b8ec-af75a2246e76",
   "metadata": {},
   "outputs": [
    {
     "data": {
      "text/plain": [
       "Text(0, 0.5, 'State')"
      ]
     },
     "execution_count": 161,
     "metadata": {},
     "output_type": "execute_result"
    },
    {
     "data": {
      "image/png": "[encoded data removed]",
      "text/plain": [
       "<Figure size 1000x1000 with 1 Axes>"
      ]
     },
     "metadata": {},
     "output_type": "display_data"
    }
   ],
   "source": [
    "sorted_data2019 = sorted(zip(act_2019_df['participation'],act_2019_df['state']), reverse=True)\n",
    "sorted_values2019, sorted_categories2019 = zip(*sorted_data)\n",
    "plt.style.use('ggplot')\n",
    "plt.figure(figsize=(10, 10))  # Set the figure size (width, height)\n",
    "plt.barh(sorted_categories2019, sorted_values2019, color='blue')\n",
    "# Add title and labels\n",
    "plt.title('ACT Bar Chart Year 2019')\n",
    "plt.xlabel('Participation')\n",
    "plt.ylabel('State')"
   ]
  },
  {
   "cell_type": "code",
   "execution_count": 165,
   "id": "f0f341f9-7855-4f3e-9587-e229dc3da51c",
   "metadata": {},
   "outputs": [
    {
     "data": {
      "text/plain": [
       "Text(0, 0.5, 'State')"
      ]
     },
     "execution_count": 165,
     "metadata": {},
     "output_type": "execute_result"
    },
    {
     "data": {
      "image/png": "[encoded data removed]",
      "text/plain": [
       "<Figure size 1000x1000 with 1 Axes>"
      ]
     },
     "metadata": {},
     "output_type": "display_data"
    }
   ],
   "source": [
    "sorted_data2024 = sorted(zip(act_2024_df['participation'],act_2024_df['state']), reverse=True)\n",
    "sorted_values2024, sorted_categories2024 = zip(*sorted_data)\n",
    "plt.style.use('ggplot')\n",
    "plt.figure(figsize=(10, 10))  # Set the figure size (width, height)\n",
    "plt.barh(sorted_categories2024, sorted_values2024, color='blue')\n",
    "# Add title and labels\n",
    "plt.title('ACT Bar Chart Year 2024')\n",
    "plt.xlabel('Participation')\n",
    "plt.ylabel('State')"
   ]
  },
  {
   "cell_type": "code",
   "execution_count": 166,
   "id": "3f615425-afb7-4fa8-aade-4f9029a39d43",
   "metadata": {},
   "outputs": [],
   "source": [
    "# Calculate the mean population by year/state/other\n",
    "mean_population = full_act.groupby('year')['participation'].mean().reset_index()"
   ]
  },
  {
   "cell_type": "code",
   "execution_count": 167,
   "id": "20734d47-40fd-4f8f-90d5-adef4c3c309c",
   "metadata": {},
   "outputs": [
    {
     "data": {
      "text/plain": [
       "Text(0, 0.5, 'Participation Rate')"
      ]
     },
     "execution_count": 167,
     "metadata": {},
     "output_type": "execute_result"
    },
    {
     "data": {
      "image/png": "[encoded data removed]",
      "text/plain": [
       "<Figure size 640x480 with 1 Axes>"
      ]
     },
     "metadata": {},
     "output_type": "display_data"
    }
   ],
   "source": [
    "# Plot graph Select rows based on multiple criteria ACT / SAT / ...\n",
    "sns.barplot(x='year',y='participation', data=mean_population, width=0.5)\n",
    "plt.title('Participation Year and ACT');  # Reports average participation for each year\n",
    "plt.xlabel('Year')\n",
    "plt.ylabel('Participation Rate')"
   ]
  },
  {
   "attachments": {},
   "cell_type": "markdown",
   "id": "2c401896-a4bb-4a77-b50f-9e534dfb3f91",
   "metadata": {},
   "source": [
    "### Average ACT Score by State Year 2024"
   ]
  },
  {
   "cell_type": "code",
   "execution_count": 149,
   "id": "6f3546c2-e82e-4fa5-9a92-1d8db03ab6b1",
   "metadata": {},
   "outputs": [
    {
     "data": {
      "text/html": [
       "<div>\n",
       "<style scoped>\n",
       "    .dataframe tbody tr th:only-of-type {\n",
       "        vertical-align: middle;\n",
       "    }\n",
       "\n",
       "    .dataframe tbody tr th {\n",
       "        vertical-align: top;\n",
       "    }\n",
       "\n",
       "    .dataframe thead th {\n",
       "        text-align: right;\n",
       "    }\n",
       "</style>\n",
       "<table border=\"1\" class=\"dataframe\">\n",
       "  <thead>\n",
       "    <tr style=\"text-align: right;\">\n",
       "      <th></th>\n",
       "      <th>state</th>\n",
       "      <th>AverageACTScorePercentOfGraduatesTested</th>\n",
       "      <th>AverageACTScoreComposite</th>\n",
       "      <th>AverageACTScoreEnglish</th>\n",
       "      <th>AverageACTScoreMath</th>\n",
       "      <th>AverageACTScoreReading</th>\n",
       "      <th>AverageACTScoreScience</th>\n",
       "      <th>state_abbr</th>\n",
       "    </tr>\n",
       "  </thead>\n",
       "  <tbody>\n",
       "    <tr>\n",
       "      <th>0</th>\n",
       "      <td>Alabama</td>\n",
       "      <td>100</td>\n",
       "      <td>18.0</td>\n",
       "      <td>17.3</td>\n",
       "      <td>17.4</td>\n",
       "      <td>18.5</td>\n",
       "      <td>18.2</td>\n",
       "      <td>AL</td>\n",
       "    </tr>\n",
       "    <tr>\n",
       "      <th>1</th>\n",
       "      <td>Alaska</td>\n",
       "      <td>14</td>\n",
       "      <td>20.4</td>\n",
       "      <td>19.3</td>\n",
       "      <td>20.0</td>\n",
       "      <td>21.4</td>\n",
       "      <td>20.4</td>\n",
       "      <td>AK</td>\n",
       "    </tr>\n",
       "    <tr>\n",
       "      <th>2</th>\n",
       "      <td>Arizona</td>\n",
       "      <td>64</td>\n",
       "      <td>18.4</td>\n",
       "      <td>17.3</td>\n",
       "      <td>18.5</td>\n",
       "      <td>18.8</td>\n",
       "      <td>18.5</td>\n",
       "      <td>AZ</td>\n",
       "    </tr>\n",
       "    <tr>\n",
       "      <th>3</th>\n",
       "      <td>Arkansas</td>\n",
       "      <td>93</td>\n",
       "      <td>18.8</td>\n",
       "      <td>18.3</td>\n",
       "      <td>18.1</td>\n",
       "      <td>19.2</td>\n",
       "      <td>19.1</td>\n",
       "      <td>AR</td>\n",
       "    </tr>\n",
       "    <tr>\n",
       "      <th>4</th>\n",
       "      <td>California</td>\n",
       "      <td>4</td>\n",
       "      <td>26.5</td>\n",
       "      <td>26.9</td>\n",
       "      <td>25.6</td>\n",
       "      <td>27.3</td>\n",
       "      <td>25.8</td>\n",
       "      <td>CA</td>\n",
       "    </tr>\n",
       "  </tbody>\n",
       "</table>\n",
       "</div>"
      ],
      "text/plain": [
       "        state  AverageACTScorePercentOfGraduatesTested  \\\n",
       "0     Alabama                                      100   \n",
       "1      Alaska                                       14   \n",
       "2     Arizona                                       64   \n",
       "3    Arkansas                                       93   \n",
       "4  California                                        4   \n",
       "\n",
       "   AverageACTScoreComposite  AverageACTScoreEnglish  AverageACTScoreMath  \\\n",
       "0                      18.0                    17.3                 17.4   \n",
       "1                      20.4                    19.3                 20.0   \n",
       "2                      18.4                    17.3                 18.5   \n",
       "3                      18.8                    18.3                 18.1   \n",
       "4                      26.5                    26.9                 25.6   \n",
       "\n",
       "   AverageACTScoreReading  AverageACTScoreScience state_abbr  \n",
       "0                    18.5                    18.2         AL  \n",
       "1                    21.4                    20.4         AK  \n",
       "2                    18.8                    18.5         AZ  \n",
       "3                    19.2                    19.1         AR  \n",
       "4                    27.3                    25.8         CA  "
      ]
     },
     "execution_count": 149,
     "metadata": {},
     "output_type": "execute_result"
    }
   ],
   "source": [
    "average_atc_2024.head()"
   ]
  },
  {
   "cell_type": "code",
   "execution_count": 150,
   "id": "be847603-762f-40f6-9ded-cfdc8d70d1bd",
   "metadata": {},
   "outputs": [],
   "source": [
    "average_atc_2024['state_abbr'] = average_atc_2024['state'].apply(get_state_abbreviation)"
   ]
  },
  {
   "cell_type": "code",
   "execution_count": 151,
   "id": "3e383392-c218-4f09-afb2-19ea3e44335c",
   "metadata": {},
   "outputs": [],
   "source": [
    "df = average_atc_2024\n",
    "Top_sorted_df = df.sort_values(by='AverageACTScorePercentOfGraduatesTested', ascending=False)\n",
    "Bottom_sorted_df = df.sort_values(by='AverageACTScorePercentOfGraduatesTested', ascending=True)"
   ]
  },
  {
   "cell_type": "code",
   "execution_count": 152,
   "id": "c2f0ac67-a5a5-4c83-9544-d0aa42bb0a9a",
   "metadata": {},
   "outputs": [
    {
     "data": {
      "text/plain": [
       "(51, 8)"
      ]
     },
     "execution_count": 152,
     "metadata": {},
     "output_type": "execute_result"
    }
   ],
   "source": [
    "df.shape"
   ]
  },
  {
   "cell_type": "code",
   "execution_count": 153,
   "id": "159e522d-cd96-4b8b-a10d-e48177e4973a",
   "metadata": {},
   "outputs": [
    {
     "data": {
      "text/html": [
       "<div>\n",
       "<style scoped>\n",
       "    .dataframe tbody tr th:only-of-type {\n",
       "        vertical-align: middle;\n",
       "    }\n",
       "\n",
       "    .dataframe tbody tr th {\n",
       "        vertical-align: top;\n",
       "    }\n",
       "\n",
       "    .dataframe thead th {\n",
       "        text-align: right;\n",
       "    }\n",
       "</style>\n",
       "<table border=\"1\" class=\"dataframe\">\n",
       "  <thead>\n",
       "    <tr style=\"text-align: right;\">\n",
       "      <th></th>\n",
       "      <th>state</th>\n",
       "      <th>AverageACTScorePercentOfGraduatesTested</th>\n",
       "      <th>AverageACTScoreComposite</th>\n",
       "      <th>AverageACTScoreEnglish</th>\n",
       "      <th>AverageACTScoreMath</th>\n",
       "      <th>AverageACTScoreReading</th>\n",
       "      <th>AverageACTScoreScience</th>\n",
       "      <th>state_abbr</th>\n",
       "    </tr>\n",
       "  </thead>\n",
       "  <tbody>\n",
       "    <tr>\n",
       "      <th>0</th>\n",
       "      <td>Alabama</td>\n",
       "      <td>100</td>\n",
       "      <td>18.0</td>\n",
       "      <td>17.3</td>\n",
       "      <td>17.4</td>\n",
       "      <td>18.5</td>\n",
       "      <td>18.2</td>\n",
       "      <td>AL</td>\n",
       "    </tr>\n",
       "    <tr>\n",
       "      <th>18</th>\n",
       "      <td>Louisiana</td>\n",
       "      <td>100</td>\n",
       "      <td>18.1</td>\n",
       "      <td>17.6</td>\n",
       "      <td>17.4</td>\n",
       "      <td>18.6</td>\n",
       "      <td>18.3</td>\n",
       "      <td>LA</td>\n",
       "    </tr>\n",
       "    <tr>\n",
       "      <th>42</th>\n",
       "      <td>Tennessee</td>\n",
       "      <td>100</td>\n",
       "      <td>18.6</td>\n",
       "      <td>18.0</td>\n",
       "      <td>18.1</td>\n",
       "      <td>19.0</td>\n",
       "      <td>18.6</td>\n",
       "      <td>TN</td>\n",
       "    </tr>\n",
       "    <tr>\n",
       "      <th>28</th>\n",
       "      <td>Nevada</td>\n",
       "      <td>100</td>\n",
       "      <td>17.3</td>\n",
       "      <td>16.1</td>\n",
       "      <td>17.1</td>\n",
       "      <td>17.8</td>\n",
       "      <td>17.6</td>\n",
       "      <td>NV</td>\n",
       "    </tr>\n",
       "    <tr>\n",
       "      <th>24</th>\n",
       "      <td>Mississippi</td>\n",
       "      <td>100</td>\n",
       "      <td>17.8</td>\n",
       "      <td>17.2</td>\n",
       "      <td>17.4</td>\n",
       "      <td>18.2</td>\n",
       "      <td>18.0</td>\n",
       "      <td>MS</td>\n",
       "    </tr>\n",
       "    <tr>\n",
       "      <th>50</th>\n",
       "      <td>Wyoming</td>\n",
       "      <td>100</td>\n",
       "      <td>19.2</td>\n",
       "      <td>18.1</td>\n",
       "      <td>18.9</td>\n",
       "      <td>20.0</td>\n",
       "      <td>19.5</td>\n",
       "      <td>WY</td>\n",
       "    </tr>\n",
       "    <tr>\n",
       "      <th>34</th>\n",
       "      <td>North Dakota</td>\n",
       "      <td>96</td>\n",
       "      <td>19.2</td>\n",
       "      <td>17.9</td>\n",
       "      <td>19.1</td>\n",
       "      <td>19.7</td>\n",
       "      <td>19.6</td>\n",
       "      <td>ND</td>\n",
       "    </tr>\n",
       "    <tr>\n",
       "      <th>17</th>\n",
       "      <td>Kentucky</td>\n",
       "      <td>96</td>\n",
       "      <td>18.6</td>\n",
       "      <td>17.8</td>\n",
       "      <td>18.0</td>\n",
       "      <td>19.2</td>\n",
       "      <td>18.7</td>\n",
       "      <td>KY</td>\n",
       "    </tr>\n",
       "    <tr>\n",
       "      <th>36</th>\n",
       "      <td>Oklahoma</td>\n",
       "      <td>94</td>\n",
       "      <td>17.9</td>\n",
       "      <td>17.0</td>\n",
       "      <td>17.3</td>\n",
       "      <td>18.6</td>\n",
       "      <td>18.2</td>\n",
       "      <td>OK</td>\n",
       "    </tr>\n",
       "    <tr>\n",
       "      <th>27</th>\n",
       "      <td>Nebraska</td>\n",
       "      <td>94</td>\n",
       "      <td>19.4</td>\n",
       "      <td>18.6</td>\n",
       "      <td>19.1</td>\n",
       "      <td>19.8</td>\n",
       "      <td>19.6</td>\n",
       "      <td>NE</td>\n",
       "    </tr>\n",
       "  </tbody>\n",
       "</table>\n",
       "</div>"
      ],
      "text/plain": [
       "           state  AverageACTScorePercentOfGraduatesTested  \\\n",
       "0        Alabama                                      100   \n",
       "18     Louisiana                                      100   \n",
       "42     Tennessee                                      100   \n",
       "28        Nevada                                      100   \n",
       "24   Mississippi                                      100   \n",
       "50       Wyoming                                      100   \n",
       "34  North Dakota                                       96   \n",
       "17      Kentucky                                       96   \n",
       "36      Oklahoma                                       94   \n",
       "27      Nebraska                                       94   \n",
       "\n",
       "    AverageACTScoreComposite  AverageACTScoreEnglish  AverageACTScoreMath  \\\n",
       "0                       18.0                    17.3                 17.4   \n",
       "18                      18.1                    17.6                 17.4   \n",
       "42                      18.6                    18.0                 18.1   \n",
       "28                      17.3                    16.1                 17.1   \n",
       "24                      17.8                    17.2                 17.4   \n",
       "50                      19.2                    18.1                 18.9   \n",
       "34                      19.2                    17.9                 19.1   \n",
       "17                      18.6                    17.8                 18.0   \n",
       "36                      17.9                    17.0                 17.3   \n",
       "27                      19.4                    18.6                 19.1   \n",
       "\n",
       "    AverageACTScoreReading  AverageACTScoreScience state_abbr  \n",
       "0                     18.5                    18.2         AL  \n",
       "18                    18.6                    18.3         LA  \n",
       "42                    19.0                    18.6         TN  \n",
       "28                    17.8                    17.6         NV  \n",
       "24                    18.2                    18.0         MS  \n",
       "50                    20.0                    19.5         WY  \n",
       "34                    19.7                    19.6         ND  \n",
       "17                    19.2                    18.7         KY  \n",
       "36                    18.6                    18.2         OK  \n",
       "27                    19.8                    19.6         NE  "
      ]
     },
     "execution_count": 153,
     "metadata": {},
     "output_type": "execute_result"
    }
   ],
   "source": [
    "Top_sorted_df.head(10)"
   ]
  },
  {
   "cell_type": "code",
   "execution_count": 154,
   "id": "20f0a2e4-4cac-4786-8a80-20d65f87b6a9",
   "metadata": {},
   "outputs": [
    {
     "data": {
      "text/html": [
       "<div>\n",
       "<style scoped>\n",
       "    .dataframe tbody tr th:only-of-type {\n",
       "        vertical-align: middle;\n",
       "    }\n",
       "\n",
       "    .dataframe tbody tr th {\n",
       "        vertical-align: top;\n",
       "    }\n",
       "\n",
       "    .dataframe thead th {\n",
       "        text-align: right;\n",
       "    }\n",
       "</style>\n",
       "<table border=\"1\" class=\"dataframe\">\n",
       "  <thead>\n",
       "    <tr style=\"text-align: right;\">\n",
       "      <th></th>\n",
       "      <th>state</th>\n",
       "      <th>AverageACTScorePercentOfGraduatesTested</th>\n",
       "      <th>AverageACTScoreComposite</th>\n",
       "      <th>AverageACTScoreEnglish</th>\n",
       "      <th>AverageACTScoreMath</th>\n",
       "      <th>AverageACTScoreReading</th>\n",
       "      <th>AverageACTScoreScience</th>\n",
       "      <th>state_abbr</th>\n",
       "    </tr>\n",
       "  </thead>\n",
       "  <tbody>\n",
       "    <tr>\n",
       "      <th>19</th>\n",
       "      <td>Maine</td>\n",
       "      <td>2</td>\n",
       "      <td>25.1</td>\n",
       "      <td>25.2</td>\n",
       "      <td>23.7</td>\n",
       "      <td>26.2</td>\n",
       "      <td>24.6</td>\n",
       "      <td>ME</td>\n",
       "    </tr>\n",
       "    <tr>\n",
       "      <th>4</th>\n",
       "      <td>California</td>\n",
       "      <td>4</td>\n",
       "      <td>26.5</td>\n",
       "      <td>26.9</td>\n",
       "      <td>25.6</td>\n",
       "      <td>27.3</td>\n",
       "      <td>25.8</td>\n",
       "      <td>CA</td>\n",
       "    </tr>\n",
       "    <tr>\n",
       "      <th>29</th>\n",
       "      <td>New Hampshire</td>\n",
       "      <td>5</td>\n",
       "      <td>25.7</td>\n",
       "      <td>25.7</td>\n",
       "      <td>25.0</td>\n",
       "      <td>26.5</td>\n",
       "      <td>25.2</td>\n",
       "      <td>NH</td>\n",
       "    </tr>\n",
       "    <tr>\n",
       "      <th>39</th>\n",
       "      <td>Rhode Island</td>\n",
       "      <td>5</td>\n",
       "      <td>25.2</td>\n",
       "      <td>25.3</td>\n",
       "      <td>24.0</td>\n",
       "      <td>26.2</td>\n",
       "      <td>24.7</td>\n",
       "      <td>RI</td>\n",
       "    </tr>\n",
       "    <tr>\n",
       "      <th>7</th>\n",
       "      <td>Delaware</td>\n",
       "      <td>5</td>\n",
       "      <td>24.9</td>\n",
       "      <td>25.3</td>\n",
       "      <td>23.6</td>\n",
       "      <td>26.1</td>\n",
       "      <td>24.3</td>\n",
       "      <td>DE</td>\n",
       "    </tr>\n",
       "    <tr>\n",
       "      <th>47</th>\n",
       "      <td>Washington</td>\n",
       "      <td>7</td>\n",
       "      <td>24.6</td>\n",
       "      <td>24.3</td>\n",
       "      <td>23.6</td>\n",
       "      <td>25.6</td>\n",
       "      <td>24.3</td>\n",
       "      <td>WA</td>\n",
       "    </tr>\n",
       "    <tr>\n",
       "      <th>38</th>\n",
       "      <td>Pennsylvania</td>\n",
       "      <td>7</td>\n",
       "      <td>24.4</td>\n",
       "      <td>24.3</td>\n",
       "      <td>23.7</td>\n",
       "      <td>25.2</td>\n",
       "      <td>24.0</td>\n",
       "      <td>PA</td>\n",
       "    </tr>\n",
       "    <tr>\n",
       "      <th>37</th>\n",
       "      <td>Oregon</td>\n",
       "      <td>7</td>\n",
       "      <td>23.0</td>\n",
       "      <td>22.5</td>\n",
       "      <td>22.0</td>\n",
       "      <td>24.2</td>\n",
       "      <td>22.8</td>\n",
       "      <td>OR</td>\n",
       "    </tr>\n",
       "    <tr>\n",
       "      <th>22</th>\n",
       "      <td>Michigan</td>\n",
       "      <td>8</td>\n",
       "      <td>24.6</td>\n",
       "      <td>24.7</td>\n",
       "      <td>23.9</td>\n",
       "      <td>25.2</td>\n",
       "      <td>24.2</td>\n",
       "      <td>MI</td>\n",
       "    </tr>\n",
       "    <tr>\n",
       "      <th>45</th>\n",
       "      <td>Vermont</td>\n",
       "      <td>8</td>\n",
       "      <td>23.7</td>\n",
       "      <td>23.4</td>\n",
       "      <td>22.4</td>\n",
       "      <td>25.0</td>\n",
       "      <td>23.5</td>\n",
       "      <td>VT</td>\n",
       "    </tr>\n",
       "  </tbody>\n",
       "</table>\n",
       "</div>"
      ],
      "text/plain": [
       "            state  AverageACTScorePercentOfGraduatesTested  \\\n",
       "19          Maine                                        2   \n",
       "4      California                                        4   \n",
       "29  New Hampshire                                        5   \n",
       "39   Rhode Island                                        5   \n",
       "7        Delaware                                        5   \n",
       "47     Washington                                        7   \n",
       "38   Pennsylvania                                        7   \n",
       "37         Oregon                                        7   \n",
       "22       Michigan                                        8   \n",
       "45        Vermont                                        8   \n",
       "\n",
       "    AverageACTScoreComposite  AverageACTScoreEnglish  AverageACTScoreMath  \\\n",
       "19                      25.1                    25.2                 23.7   \n",
       "4                       26.5                    26.9                 25.6   \n",
       "29                      25.7                    25.7                 25.0   \n",
       "39                      25.2                    25.3                 24.0   \n",
       "7                       24.9                    25.3                 23.6   \n",
       "47                      24.6                    24.3                 23.6   \n",
       "38                      24.4                    24.3                 23.7   \n",
       "37                      23.0                    22.5                 22.0   \n",
       "22                      24.6                    24.7                 23.9   \n",
       "45                      23.7                    23.4                 22.4   \n",
       "\n",
       "    AverageACTScoreReading  AverageACTScoreScience state_abbr  \n",
       "19                    26.2                    24.6         ME  \n",
       "4                     27.3                    25.8         CA  \n",
       "29                    26.5                    25.2         NH  \n",
       "39                    26.2                    24.7         RI  \n",
       "7                     26.1                    24.3         DE  \n",
       "47                    25.6                    24.3         WA  \n",
       "38                    25.2                    24.0         PA  \n",
       "37                    24.2                    22.8         OR  \n",
       "22                    25.2                    24.2         MI  \n",
       "45                    25.0                    23.5         VT  "
      ]
     },
     "execution_count": 154,
     "metadata": {},
     "output_type": "execute_result"
    }
   ],
   "source": [
    "Bottom_sorted_df.head(10)"
   ]
  },
  {
   "cell_type": "code",
   "execution_count": 155,
   "id": "850fe811-b7c2-417c-bfe7-d96cf0eb0d74",
   "metadata": {},
   "outputs": [
    {
     "data": {
      "text/plain": [
       "Text(0.5, 0.98, 'Average ACT Score Percent Of Graduates Tested Categorical by State Plotting')"
      ]
     },
     "execution_count": 155,
     "metadata": {},
     "output_type": "execute_result"
    },
    {
     "data": {
      "image/png": "[encoded data removed]",
      "text/plain": [
       "<Figure size 1500x400 with 3 Axes>"
      ]
     },
     "metadata": {},
     "output_type": "display_data"
    }
   ],
   "source": [
    "data = average_atc_2024\n",
    "names = average_atc_2024['state_abbr']\n",
    "values = average_atc_2024['AverageACTScorePercentOfGraduatesTested']\n",
    "\n",
    "fig, axs = plt.subplots(1, 3, figsize=(15, 4), sharey=True)\n",
    "axs[0].bar(names, values)\n",
    "axs[1].scatter(names, values)\n",
    "axs[2].plot(names, values)\n",
    "fig.suptitle('Average ACT Score Percent Of Graduates Tested Categorical by State Plotting')"
   ]
  },
  {
   "cell_type": "code",
   "execution_count": null,
   "id": "8152b924-3312-46b0-814d-0aba0596092a",
   "metadata": {},
   "outputs": [],
   "source": []
  }
 ],
 "metadata": {
  "kernelspec": {
   "display_name": "Python 3 (ipykernel)",
   "language": "python",
   "name": "python3"
  },
  "language_info": {
   "codemirror_mode": {
    "name": "ipython",
    "version": 3
   },
   "file_extension": ".py",
   "mimetype": "text/x-python",
   "name": "python",
   "nbconvert_exporter": "python",
   "pygments_lexer": "ipython3",
   "version": "3.12.4"
  }
 },
 "nbformat": 4,
 "nbformat_minor": 5
}
